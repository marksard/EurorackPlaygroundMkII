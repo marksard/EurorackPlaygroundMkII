{
 "cells": [
  {
   "cell_type": "code",
   "execution_count": 2,
   "id": "31f61955",
   "metadata": {},
   "outputs": [
    {
     "name": "stdout",
     "output_type": "stream",
     "text": [
      "144403552893600\n",
      "144403552893600 を表現するのに必要なビット数: 48\n"
     ]
    }
   ],
   "source": [
    "import math\n",
    "\n",
    "def lcm(a, b):\n",
    "    return abs(a * b) // math.gcd(a, b)\n",
    "\n",
    "result = 1\n",
    "for i in range(1, 32 + 1):\n",
    "    result = lcm(result, i)\n",
    "\n",
    "print(result)  # 出力:\n",
    "\n",
    "bit_count = result.bit_length()\n",
    "\n",
    "# 結果を出力\n",
    "print(f\"{result} を表現するのに必要なビット数: {bit_count}\")"
   ]
  }
 ],
 "metadata": {
  "kernelspec": {
   "display_name": "Python 3",
   "language": "python",
   "name": "python3"
  },
  "language_info": {
   "codemirror_mode": {
    "name": "ipython",
    "version": 3
   },
   "file_extension": ".py",
   "mimetype": "text/x-python",
   "name": "python",
   "nbconvert_exporter": "python",
   "pygments_lexer": "ipython3",
   "version": "3.10.11"
  }
 },
 "nbformat": 4,
 "nbformat_minor": 5
}
